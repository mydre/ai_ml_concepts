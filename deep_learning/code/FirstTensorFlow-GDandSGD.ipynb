{
 "cells": [
  {
   "cell_type": "code",
   "execution_count": 1,
   "metadata": {
    "collapsed": false
   },
   "outputs": [],
   "source": [
    "%matplotlib inline\n",
    "\n",
    "import pickle\n",
    "from sklearn.model_selection import train_test_split\n",
    "from sklearn.preprocessing import OneHotEncoder\n",
    "import numpy as np\n",
    "import tensorflow as tf"
   ]
  },
  {
   "cell_type": "code",
   "execution_count": null,
   "metadata": {
    "collapsed": true
   },
   "outputs": [],
   "source": []
  },
  {
   "cell_type": "code",
   "execution_count": 2,
   "metadata": {
    "collapsed": false
   },
   "outputs": [],
   "source": [
    "X_y = pickle.load(open(\"../datasets/notMNIST/all_image_array_train.pickle\", \"rb\"))"
   ]
  },
  {
   "cell_type": "code",
   "execution_count": 3,
   "metadata": {
    "collapsed": true
   },
   "outputs": [],
   "source": [
    "X_y_test = pickle.load(open(\"../datasets/notMNIST/all_image_array_test.pickle\", \"rb\"))"
   ]
  },
  {
   "cell_type": "code",
   "execution_count": 4,
   "metadata": {
    "collapsed": false
   },
   "outputs": [
    {
     "data": {
      "text/plain": [
       "(10010, 785)"
      ]
     },
     "execution_count": 4,
     "metadata": {},
     "output_type": "execute_result"
    }
   ],
   "source": [
    "X_y.shape"
   ]
  },
  {
   "cell_type": "code",
   "execution_count": 5,
   "metadata": {
    "collapsed": false
   },
   "outputs": [
    {
     "data": {
      "text/plain": [
       "array([ 1.,  1.,  1.,  1.,  1.,  1.,  1.,  1.,  1.])"
      ]
     },
     "execution_count": 5,
     "metadata": {},
     "output_type": "execute_result"
    }
   ],
   "source": [
    "X_y[1:10,0]"
   ]
  },
  {
   "cell_type": "code",
   "execution_count": 6,
   "metadata": {
    "collapsed": false
   },
   "outputs": [
    {
     "data": {
      "text/plain": [
       "array([[ 1.],\n",
       "       [ 1.],\n",
       "       [ 1.],\n",
       "       [ 1.],\n",
       "       [ 1.],\n",
       "       [ 1.],\n",
       "       [ 1.],\n",
       "       [ 1.],\n",
       "       [ 1.]])"
      ]
     },
     "execution_count": 6,
     "metadata": {},
     "output_type": "execute_result"
    }
   ],
   "source": [
    "X_y[1:10,0][:,None]"
   ]
  },
  {
   "cell_type": "code",
   "execution_count": 7,
   "metadata": {
    "collapsed": false
   },
   "outputs": [],
   "source": [
    "enc = OneHotEncoder()\n",
    "enc.fit(X_y[:,0][:,None])\n",
    "y = np.asarray(enc.transform(X_y[:,0][:,None]).toarray())\n",
    "y_test = np.asarray(enc.transform(X_y_test[:,0][:,None]).toarray())"
   ]
  },
  {
   "cell_type": "code",
   "execution_count": 8,
   "metadata": {
    "collapsed": false
   },
   "outputs": [
    {
     "data": {
      "text/plain": [
       "(10010, 10)"
      ]
     },
     "execution_count": 8,
     "metadata": {},
     "output_type": "execute_result"
    }
   ],
   "source": [
    "y.shape"
   ]
  },
  {
   "cell_type": "code",
   "execution_count": 9,
   "metadata": {
    "collapsed": false
   },
   "outputs": [
    {
     "data": {
      "text/plain": [
       "(10009, 10)"
      ]
     },
     "execution_count": 9,
     "metadata": {},
     "output_type": "execute_result"
    }
   ],
   "source": [
    "y_test.shape"
   ]
  },
  {
   "cell_type": "code",
   "execution_count": 10,
   "metadata": {
    "collapsed": false
   },
   "outputs": [
    {
     "data": {
      "text/plain": [
       "array([[ 1.,  0.,  0., ...,  0.,  0.,  0.],\n",
       "       [ 1.,  0.,  0., ...,  0.,  0.,  0.],\n",
       "       [ 1.,  0.,  0., ...,  0.,  0.,  0.],\n",
       "       ..., \n",
       "       [ 0.,  0.,  0., ...,  0.,  0.,  1.],\n",
       "       [ 0.,  0.,  0., ...,  0.,  0.,  1.],\n",
       "       [ 0.,  0.,  0., ...,  0.,  0.,  1.]])"
      ]
     },
     "execution_count": 10,
     "metadata": {},
     "output_type": "execute_result"
    }
   ],
   "source": [
    "y"
   ]
  },
  {
   "cell_type": "code",
   "execution_count": 11,
   "metadata": {
    "collapsed": true
   },
   "outputs": [],
   "source": [
    "X = X_y[:,1:785]\n",
    "X_y_test = X_y_test[:,1:785]"
   ]
  },
  {
   "cell_type": "code",
   "execution_count": 12,
   "metadata": {
    "collapsed": true
   },
   "outputs": [],
   "source": [
    "X_train, X_valid, y_train, y_valid = train_test_split(X, y, test_size=0.33, random_state=42)"
   ]
  },
  {
   "cell_type": "code",
   "execution_count": 13,
   "metadata": {
    "collapsed": false
   },
   "outputs": [
    {
     "name": "stdout",
     "output_type": "stream",
     "text": [
      "Tensor(\"SoftmaxCrossEntropyWithLogits:0\", shape=(6706,), dtype=float32)\n",
      "Tensor(\"Mean:0\", shape=(), dtype=float32)\n"
     ]
    }
   ],
   "source": [
    "graph = tf.Graph()\n",
    "with graph.as_default():\n",
    "    X_train_tf = tf.cast(tf.constant(X_train), tf.float32)\n",
    "    y_train_tf = tf.cast(tf.constant(y_train), tf.float32)\n",
    "    \n",
    "    X_valid_tf = tf.cast(tf.constant(X_valid), tf.float32)\n",
    "    \n",
    "    X_test_tf = tf.cast(tf.constant(X_y_test), tf.float32)\n",
    "\n",
    "    norm_dist_weights = tf.truncated_normal([X.shape[1], y.shape[1]])\n",
    "\n",
    "    norm_dist_weights_tf = tf.Variable(norm_dist_weights)\n",
    "\n",
    "    norm_dist_weights\n",
    "\n",
    "    y.shape[1]\n",
    "\n",
    "    biases_tf = tf.Variable(tf.zeros([y.shape[1]]))\n",
    "\n",
    "    X_train.shape\n",
    "\n",
    "    logits = tf.matmul(X_train_tf, norm_dist_weights_tf) + biases_tf\n",
    "    tf_loss_alldata_perclass = tf.nn.softmax_cross_entropy_with_logits(logits, y_train_tf)\n",
    "    print (tf_loss_alldata_perclass)\n",
    "    loss = tf.reduce_mean(tf_loss_alldata_perclass)\n",
    "    print(loss)\n",
    "    optimizer = tf.train.GradientDescentOptimizer(0.5).minimize(loss)\n",
    "    \n",
    "    y_train_prediction = tf.nn.softmax(logits)\n",
    "    \n",
    "    y_valid_prediction = tf.nn.softmax(\n",
    "    tf.matmul(X_valid_tf,norm_dist_weights_tf) + biases_tf\n",
    "    )\n",
    "\n",
    "    y_test_prediction = tf.nn.softmax(\n",
    "    tf.matmul(X_test_tf,norm_dist_weights_tf) + biases_tf\n",
    "    )\n",
    "    \n",
    "    "
   ]
  },
  {
   "cell_type": "code",
   "execution_count": 14,
   "metadata": {
    "collapsed": false
   },
   "outputs": [
    {
     "data": {
      "text/plain": [
       "<tf.Tensor 'Cast:0' shape=(6706, 784) dtype=float32>"
      ]
     },
     "execution_count": 14,
     "metadata": {},
     "output_type": "execute_result"
    }
   ],
   "source": [
    "X_train_tf"
   ]
  },
  {
   "cell_type": "code",
   "execution_count": 15,
   "metadata": {
    "collapsed": false
   },
   "outputs": [
    {
     "data": {
      "text/plain": [
       "<tf.Tensor 'truncated_normal:0' shape=(784, 10) dtype=float32>"
      ]
     },
     "execution_count": 15,
     "metadata": {},
     "output_type": "execute_result"
    }
   ],
   "source": [
    "norm_dist_weights"
   ]
  },
  {
   "cell_type": "code",
   "execution_count": 16,
   "metadata": {
    "collapsed": false
   },
   "outputs": [
    {
     "data": {
      "text/plain": [
       "<tf.Tensor 'add:0' shape=(6706, 10) dtype=float32>"
      ]
     },
     "execution_count": 16,
     "metadata": {},
     "output_type": "execute_result"
    }
   ],
   "source": [
    "logits"
   ]
  },
  {
   "cell_type": "code",
   "execution_count": 17,
   "metadata": {
    "collapsed": false
   },
   "outputs": [
    {
     "data": {
      "text/plain": [
       "<tf.Tensor 'Cast_1:0' shape=(6706, 10) dtype=float32>"
      ]
     },
     "execution_count": 17,
     "metadata": {},
     "output_type": "execute_result"
    }
   ],
   "source": [
    "y_train_tf"
   ]
  },
  {
   "cell_type": "code",
   "execution_count": 18,
   "metadata": {
    "collapsed": false
   },
   "outputs": [
    {
     "name": "stdout",
     "output_type": "stream",
     "text": [
      "Initialized\n",
      "loss at step 0: 4813.8008\n",
      "Training accuracy: 10.48%\n",
      "Validation accuracy: 31.20%\n",
      "Testing accuracy: 33.86%\n",
      "loss at step 100: 49440.2969\n",
      "Training accuracy: 74.53%\n",
      "Validation accuracy: 74.73%\n",
      "Testing accuracy: 81.57%\n",
      "loss at step 200: 55139.9570\n",
      "Training accuracy: 73.83%\n",
      "Validation accuracy: 69.79%\n",
      "Testing accuracy: 76.97%\n",
      "loss at step 300: 40511.5234\n",
      "Training accuracy: 77.83%\n",
      "Validation accuracy: 74.00%\n",
      "Testing accuracy: 81.92%\n",
      "loss at step 400: 70940.6250\n",
      "Training accuracy: 75.99%\n",
      "Validation accuracy: 72.06%\n",
      "Testing accuracy: 78.33%\n",
      "loss at step 500: 39531.5781\n",
      "Training accuracy: 78.71%\n",
      "Validation accuracy: 73.46%\n",
      "Testing accuracy: 81.31%\n",
      "loss at step 600: 57561.5000\n",
      "Training accuracy: 70.07%\n",
      "Validation accuracy: 72.64%\n",
      "Testing accuracy: 78.68%\n",
      "loss at step 700: 94597.5391\n",
      "Training accuracy: 72.80%\n",
      "Validation accuracy: 70.91%\n",
      "Testing accuracy: 78.17%\n",
      "loss at step 800: 46973.8242\n",
      "Training accuracy: 72.47%\n",
      "Validation accuracy: 69.04%\n",
      "Testing accuracy: 75.43%\n"
     ]
    }
   ],
   "source": [
    "num_steps = 801\n",
    "\n",
    "def accuracy(predictions, label):\n",
    "    return(100.0 * np.sum(np.argmax(predictions, 1) == np.argmax(label, 1))\n",
    "          / predictions.shape[0])\n",
    "\n",
    "with tf.Session(graph=graph) as session:\n",
    "    tf.initialize_all_variables().run()\n",
    "    print (\"Initialized\")\n",
    "    \n",
    "    for step in range(num_steps):\n",
    "        _, curr_loss, predictions = session.run([optimizer, loss, y_train_prediction])\n",
    "        # below code is required for display purpose only\n",
    "        \n",
    "        if(step % 100 == 0):\n",
    "            print('loss at step %d: %.4f' % (step, curr_loss))\n",
    "            print('Training accuracy: %.2f%%' % accuracy(predictions, y_train))\n",
    "            print('Validation accuracy: %.2f%%' % accuracy(y_valid_prediction.eval(), y_valid))\n",
    "            print('Testing accuracy: %.2f%%' % accuracy(y_test_prediction.eval(), y_test))\n",
    "            "
   ]
  },
  {
   "cell_type": "code",
   "execution_count": 19,
   "metadata": {
    "collapsed": true
   },
   "outputs": [],
   "source": [
    "#train_prediction = tf.nn.softmax(logits)\n",
    "#valid_prediction = tf.nn.softmax(tf.matmul(tf_valid_dataset, weights) + biases) \n",
    "#test_prediction = tf.nn.softmax(tf.matmul(tf_test_dataset, weights) + biases)"
   ]
  },
  {
   "cell_type": "code",
   "execution_count": 20,
   "metadata": {
    "collapsed": false
   },
   "outputs": [],
   "source": [
    "batch_size = 100\n",
    "\n",
    "graph_scd = tf.Graph()\n",
    "with graph_scd.as_default():\n",
    "    tf_X_train_scd = tf.placeholder(dtype=tf.float32, shape=[batch_size, X_train.shape[1]])\n",
    "    tf_y_train_scd = tf.placeholder(dtype=tf.float32, shape =[batch_size, y_train.shape[1]])\n",
    "    \n",
    "    tf_weights_scd = tf.Variable(tf.truncated_normal(shape=[X_train.shape[1], y_train.shape[1]], dtype=tf.float32))\n",
    "    tf_biases_scd = tf.Variable(tf.zeros(shape=y_train.shape[1]))\n",
    "    \n",
    "    logits = tf.matmul(a=tf_X_train_scd, b=tf_weights_scd) + tf_biases_scd\n",
    "    \n",
    "    loss_scd = tf.reduce_mean(tf.nn.softmax_cross_entropy_with_logits(logits, tf_y_train_scd))    \n",
    "    tf_optimizer_scd = tf.train.GradientDescentOptimizer(learning_rate=0.05).minimize(loss_scd)\n",
    "    \n",
    "    tf_y_pred_scd = tf.nn.softmax(logits)\n",
    "    \n",
    "    "
   ]
  },
  {
   "cell_type": "code",
   "execution_count": 21,
   "metadata": {
    "collapsed": false
   },
   "outputs": [
    {
     "data": {
      "text/plain": [
       "(100, 784)"
      ]
     },
     "execution_count": 21,
     "metadata": {},
     "output_type": "execute_result"
    }
   ],
   "source": [
    "\n",
    "index = np.random.randint(low=0, high = 6706, size=batch_size)\n",
    "batch_X_train = X_train[index,:]\n",
    "batch_X_train.shape"
   ]
  },
  {
   "cell_type": "code",
   "execution_count": 22,
   "metadata": {
    "collapsed": false
   },
   "outputs": [
    {
     "name": "stdout",
     "output_type": "stream",
     "text": [
      "Loss at step 0: 7859.148926\n",
      "Accuracy: 6.0%\n",
      "Loss at step 500: 3373.341309\n",
      "Accuracy: 83.0%\n",
      "Loss at step 1000: 3761.447754\n",
      "Accuracy: 80.0%\n",
      "Loss at step 1500: 5316.018555\n",
      "Accuracy: 74.0%\n",
      "Loss at step 2000: 3386.474121\n",
      "Accuracy: 84.0%\n",
      "Loss at step 2500: 5053.129883\n",
      "Accuracy: 81.0%\n",
      "Loss at step 3000: 2525.650879\n",
      "Accuracy: 85.0%\n"
     ]
    }
   ],
   "source": [
    "num_steps = 3001\n",
    "\n",
    "with tf.Session(graph=graph_scd) as session:\n",
    "    tf.initialize_all_variables().run()\n",
    "    for i in range(num_steps):\n",
    "        index = np.random.randint(low=0, high = 6706, size=batch_size)\n",
    "        batch_X_train = X_train[index,:]\n",
    "        batch_y_train = y_train[index,:]\n",
    "        feed_dict = {tf_X_train_scd:batch_X_train, tf_y_train_scd:batch_y_train}\n",
    "        _, l, predictions = session.run([tf_optimizer_scd, loss_scd, tf_y_pred_scd], feed_dict = feed_dict)\n",
    "        if(i % 500 == 0):\n",
    "            print(\"Loss at step %d: %f\" % (i, l))\n",
    "            print(\"Accuracy: %.1f%%\" % accuracy(batch_y_train, predictions))\n",
    "        "
   ]
  },
  {
   "cell_type": "markdown",
   "metadata": {},
   "source": [
    "Now we will try to train Neural Network with Relu "
   ]
  },
  {
   "cell_type": "markdown",
   "metadata": {},
   "source": [
    "\n",
    "import tensorflow as tf\n",
    "import numpy as np\n",
    "\n",
    "# Data sets\n",
    "IRIS_TRAINING = \"iris_training.csv\"\n",
    "IRIS_TEST = \"iris_test.csv\"\n",
    "\n",
    "# Load datasets.\n",
    "training_set = X_y\n",
    "test_set = X_y_test\n",
    "\n",
    "# Specify that all features have real-value data\n",
    "feature_columns = [tf.contrib.layers.real_valued_column(\"\", dimension=4)]\n",
    "\n",
    "# Build 3 layer DNN with 10, 20, 10 units respectively.\n",
    "classifier = tf.contrib.learn.DNNClassifier(feature_columns=feature_columns,\n",
    "                                            hidden_units=[10, 20, 10],\n",
    "                                            n_classes=3,\n",
    "                                            model_dir=\"/tmp/iris_model\")\n",
    "\n",
    "# Fit model.\n",
    "classifier.fit(x=X_train,\n",
    "               y=y_train,\n",
    "               steps=2000)\n",
    "\n",
    "# Evaluate accuracy.\n",
    "accuracy_score = classifier.evaluate(x=X_test,\n",
    "                                     y=y_test)[\"accuracy\"]\n",
    "print('Accuracy: {0:f}'.format(accuracy_score))\n",
    "\n",
    "# Classify two new flower samples.\n",
    "new_samples = np.array(\n",
    "    [[6.4, 3.2, 4.5, 1.5], [5.8, 3.1, 5.0, 1.7]], dtype=float)\n",
    "y = classifier.predict(new_samples)\n",
    "print('Predictions: {}'.format(str(y)))"
   ]
  },
  {
   "cell_type": "code",
   "execution_count": 29,
   "metadata": {
    "collapsed": false
   },
   "outputs": [
    {
     "name": "stdout",
     "output_type": "stream",
     "text": [
      "Tensor(\"add:0\", shape=(100, 10), dtype=float32)\n",
      "Tensor(\"add:0\", shape=(100, 10), dtype=float32)\n",
      "Loss at step 0: 509.861420\n",
      "Accuracy: 15.0%\n",
      "Loss at step 500: 4949.971680\n",
      "Accuracy: 76.0%\n",
      "Loss at step 1000: 16294.777344\n",
      "Accuracy: 63.0%\n",
      "Loss at step 1500: 6771.337402\n",
      "Accuracy: 77.0%\n",
      "Loss at step 2000: 5484.734863\n",
      "Accuracy: 85.0%\n",
      "Loss at step 2500: 2458.580566\n",
      "Accuracy: 81.0%\n",
      "Loss at step 3000: 3865.599121\n",
      "Accuracy: 80.0%\n"
     ]
    }
   ],
   "source": [
    "batch_size = 100\n",
    "\n",
    "graph_scd = tf.Graph()\n",
    "with graph_scd.as_default():\n",
    "    tf_X_train_scd = tf.placeholder(dtype=tf.float32, shape=[batch_size, X_train.shape[1]])\n",
    "    tf_y_train_scd = tf.placeholder(dtype=tf.float32, shape =[batch_size, y_train.shape[1]])\n",
    "    \n",
    "    tf_weights_scd = tf.Variable(tf.truncated_normal(stddev=0.1, shape=[X_train.shape[1], y_train.shape[1]], dtype=tf.float32))\n",
    "    tf_biases_scd = tf.Variable(tf.ones(shape=y_train.shape[1]))\n",
    "    \n",
    "    logits = tf.matmul(a=tf_X_train_scd, b=tf_weights_scd) + tf_biases_scd\n",
    "    print (logits)\n",
    "    logits_relu = logits #tf.nn.relu(logits)\n",
    "    print (logits_relu)\n",
    "    loss_scd = tf.reduce_mean(tf.nn.softmax_cross_entropy_with_logits(logits_relu, tf_y_train_scd))    \n",
    "    tf_optimizer_scd = tf.train.GradientDescentOptimizer(learning_rate=0.05).minimize(loss_scd)\n",
    "    \n",
    "    tf_y_pred_scd = tf.nn.softmax(logits_relu)\n",
    "\n",
    "num_steps = 3001\n",
    "\n",
    "with tf.Session(graph=graph_scd) as session:\n",
    "    tf.initialize_all_variables().run()\n",
    "    for i in range(num_steps):\n",
    "        index = np.random.randint(low=0, high = 6706, size=batch_size)\n",
    "        batch_X_train = X_train[index,:]\n",
    "        batch_y_train = y_train[index,:]\n",
    "        feed_dict = {tf_X_train_scd:batch_X_train, tf_y_train_scd:batch_y_train}\n",
    "        _, l, predictions = session.run([tf_optimizer_scd, loss_scd, tf_y_pred_scd], feed_dict = feed_dict)\n",
    "        if(i % 500 == 0):\n",
    "            print(\"Loss at step %d: %f\" % (i, l))\n",
    "            print(\"Accuracy: %.1f%%\" % accuracy(batch_y_train, predictions))\n",
    "        "
   ]
  },
  {
   "cell_type": "code",
   "execution_count": 28,
   "metadata": {
    "collapsed": false
   },
   "outputs": [
    {
     "name": "stdout",
     "output_type": "stream",
     "text": [
      "<tensorflow.python.ops.variables.Variable object at 0x7f04d45fc790>\n",
      "<tensorflow.python.ops.variables.Variable object at 0x7f04cd976490>\n",
      "Tensor(\"add:0\", shape=(50, 1024), dtype=float32)\n",
      "Tensor(\"add:0\", shape=(50, 1024), dtype=float32)\n",
      "<tensorflow.python.ops.variables.Variable object at 0x7f04cd976350>\n",
      "<tensorflow.python.ops.variables.Variable object at 0x7f04cd9800d0>\n",
      "Tensor(\"add_1:0\", shape=(50, 10), dtype=float32)\n",
      "Loss at step 0: 1234.371216\n",
      "Accuracy: 12.0%\n",
      "Loss at step 500: nan\n",
      "Accuracy: 8.0%\n",
      "Loss at step 1000: nan\n",
      "Accuracy: 8.0%\n",
      "Loss at step 1500: nan\n",
      "Accuracy: 8.0%\n"
     ]
    }
   ],
   "source": [
    "batch_size = 50\n",
    "\n",
    "graph_scd = tf.Graph()\n",
    "with graph_scd.as_default():\n",
    "    tf_X_train_scd = tf.placeholder(dtype=tf.float32, shape=[batch_size, X_train.shape[1]])\n",
    "    tf_y_train_scd = tf.placeholder(dtype=tf.float32, shape =[batch_size, y_train.shape[1]])\n",
    "    \n",
    "    tf_weights_scd = tf.Variable(tf.truncated_normal(stddev=0.1, shape=[X_train.shape[1], 1024], dtype=tf.float32))\n",
    "    tf_biases_scd = tf.Variable(tf.ones(shape=[1024]))\n",
    "    print(tf_weights_scd)\n",
    "    print(tf_biases_scd)\n",
    "    logits = tf.matmul(a=tf_X_train_scd, b=tf_weights_scd) + tf_biases_scd\n",
    "    print (logits)\n",
    "    logits_relu = logits #tf.nn.relu(logits)\n",
    "    print (logits_relu)\n",
    "    \n",
    "    # Let's add another layer for converting 1024 outputs to required number of classes i.e. y_train.shape[1]. This will be Readout layer which will use softmax function\n",
    "    \n",
    "    tf_weights_scd = tf.Variable(tf.truncated_normal(stddev=0.1, shape=[1024, y_train.shape[1]], dtype=tf.float32))\n",
    "    tf_biases_scd = tf.Variable(tf.ones(shape=y_train.shape[1]))\n",
    "    print(tf_weights_scd)\n",
    "    print(tf_biases_scd)\n",
    "    \n",
    "    logits = tf.matmul(a=logits_relu, b=tf_weights_scd) + tf_biases_scd\n",
    "    print (logits)\n",
    "    \n",
    "    loss_scd = tf.reduce_mean(tf.nn.softmax_cross_entropy_with_logits(logits, tf_y_train_scd))    \n",
    "    tf_optimizer_scd = tf.train.GradientDescentOptimizer(learning_rate=0.05).minimize(loss_scd)\n",
    "    \n",
    "    tf_y_pred_scd = tf.nn.softmax(logits)\n",
    "\n",
    "num_steps = 2000\n",
    "\n",
    "with tf.Session(graph=graph_scd) as session:\n",
    "    tf.initialize_all_variables().run()\n",
    "    for i in range(num_steps):\n",
    "        index = np.random.randint(low=0, high = X_train.shape[0], size=batch_size)\n",
    "        batch_X_train = X_train[index,:]\n",
    "        batch_y_train = y_train[index,:]\n",
    "        feed_dict = {tf_X_train_scd:batch_X_train, tf_y_train_scd:batch_y_train}\n",
    "        _, l, predictions = session.run([tf_optimizer_scd, loss_scd, tf_y_pred_scd], feed_dict = feed_dict)\n",
    "        if(i % 500 == 0):\n",
    "            print(\"Loss at step %d: %f\" % (i, l))\n",
    "            print(\"Accuracy: %.1f%%\" % accuracy(batch_y_train, predictions))\n",
    "        "
   ]
  },
  {
   "cell_type": "code",
   "execution_count": null,
   "metadata": {
    "collapsed": true
   },
   "outputs": [],
   "source": []
  }
 ],
 "metadata": {
  "kernelspec": {
   "display_name": "Python [tensorflow]",
   "language": "python",
   "name": "Python [tensorflow]"
  },
  "language_info": {
   "codemirror_mode": {
    "name": "ipython",
    "version": 2
   },
   "file_extension": ".py",
   "mimetype": "text/x-python",
   "name": "python",
   "nbconvert_exporter": "python",
   "pygments_lexer": "ipython2",
   "version": "2.7.12"
  }
 },
 "nbformat": 4,
 "nbformat_minor": 0
}
