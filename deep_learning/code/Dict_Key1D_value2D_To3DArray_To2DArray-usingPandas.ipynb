{
 "cells": [
  {
   "cell_type": "markdown",
   "metadata": {},
   "source": [
    "# Original Data - Dictionary with Key as String and value is List of 2D array\n"
   ]
  },
  {
   "cell_type": "code",
   "execution_count": 1,
   "metadata": {
    "collapsed": true
   },
   "outputs": [],
   "source": [
    "import numpy as np\n",
    "\n",
    "a = {'m':\n",
    "     [((11,12,13),(14,15,16),(17, 18, 19)),    \n",
    "      ((111,112,113),(114,115,116),(117, 118, 119))            \n",
    "     ],\n",
    "     \n",
    "     'n':\n",
    "     [((21,22,23),(24,25,26), (27, 28, 29)),    \n",
    "      ((221,222,223),(224,225,226), (227, 228, 229))     \n",
    "     ]}"
   ]
  },
  {
   "cell_type": "code",
   "execution_count": 2,
   "metadata": {
    "collapsed": false
   },
   "outputs": [
    {
     "data": {
      "text/plain": [
       "{'m': [((11, 12, 13), (14, 15, 16), (17, 18, 19)),\n",
       "  ((111, 112, 113), (114, 115, 116), (117, 118, 119))],\n",
       " 'n': [((21, 22, 23), (24, 25, 26), (27, 28, 29)),\n",
       "  ((221, 222, 223), (224, 225, 226), (227, 228, 229))]}"
      ]
     },
     "execution_count": 2,
     "metadata": {},
     "output_type": "execute_result"
    }
   ],
   "source": [
    "a"
   ]
  },
  {
   "cell_type": "markdown",
   "metadata": {},
   "source": [
    "# Flattening Data\n"
   ]
  },
  {
   "cell_type": "code",
   "execution_count": 3,
   "metadata": {
    "collapsed": false
   },
   "outputs": [
    {
     "data": {
      "text/plain": [
       "[((11, 12, 13), (14, 15, 16), (17, 18, 19)),\n",
       " ((111, 112, 113), (114, 115, 116), (117, 118, 119))]"
      ]
     },
     "execution_count": 3,
     "metadata": {},
     "output_type": "execute_result"
    }
   ],
   "source": [
    "a['m']"
   ]
  },
  {
   "cell_type": "code",
   "execution_count": 4,
   "metadata": {
    "collapsed": false
   },
   "outputs": [],
   "source": [
    "b = list(a.values())"
   ]
  },
  {
   "cell_type": "code",
   "execution_count": 5,
   "metadata": {
    "collapsed": true
   },
   "outputs": [],
   "source": [
    "c = np.array(b)"
   ]
  },
  {
   "cell_type": "code",
   "execution_count": 6,
   "metadata": {
    "collapsed": false
   },
   "outputs": [
    {
     "data": {
      "text/plain": [
       "array([[[[ 11,  12,  13],\n",
       "         [ 14,  15,  16],\n",
       "         [ 17,  18,  19]],\n",
       "\n",
       "        [[111, 112, 113],\n",
       "         [114, 115, 116],\n",
       "         [117, 118, 119]]],\n",
       "\n",
       "\n",
       "       [[[ 21,  22,  23],\n",
       "         [ 24,  25,  26],\n",
       "         [ 27,  28,  29]],\n",
       "\n",
       "        [[221, 222, 223],\n",
       "         [224, 225, 226],\n",
       "         [227, 228, 229]]]])"
      ]
     },
     "execution_count": 6,
     "metadata": {},
     "output_type": "execute_result"
    }
   ],
   "source": [
    "c"
   ]
  },
  {
   "cell_type": "code",
   "execution_count": 7,
   "metadata": {
    "collapsed": false
   },
   "outputs": [
    {
     "data": {
      "text/plain": [
       "array([[[ 11,  12,  13],\n",
       "        [ 14,  15,  16],\n",
       "        [ 17,  18,  19]],\n",
       "\n",
       "       [[111, 112, 113],\n",
       "        [114, 115, 116],\n",
       "        [117, 118, 119]]])"
      ]
     },
     "execution_count": 7,
     "metadata": {},
     "output_type": "execute_result"
    }
   ],
   "source": [
    "c[0]"
   ]
  },
  {
   "cell_type": "code",
   "execution_count": 8,
   "metadata": {
    "collapsed": false
   },
   "outputs": [
    {
     "data": {
      "text/plain": [
       "array([[11, 12, 13],\n",
       "       [14, 15, 16],\n",
       "       [17, 18, 19]])"
      ]
     },
     "execution_count": 8,
     "metadata": {},
     "output_type": "execute_result"
    }
   ],
   "source": [
    "c[0][0]"
   ]
  },
  {
   "cell_type": "code",
   "execution_count": 9,
   "metadata": {
    "collapsed": false
   },
   "outputs": [
    {
     "data": {
      "text/plain": [
       "array([11, 12, 13])"
      ]
     },
     "execution_count": 9,
     "metadata": {},
     "output_type": "execute_result"
    }
   ],
   "source": [
    "c[0][0][0]"
   ]
  },
  {
   "cell_type": "code",
   "execution_count": 10,
   "metadata": {
    "collapsed": false
   },
   "outputs": [
    {
     "data": {
      "text/plain": [
       "11"
      ]
     },
     "execution_count": 10,
     "metadata": {},
     "output_type": "execute_result"
    }
   ],
   "source": [
    "c[0][0][0][0]"
   ]
  },
  {
   "cell_type": "code",
   "execution_count": 11,
   "metadata": {
    "collapsed": false
   },
   "outputs": [
    {
     "data": {
      "text/plain": [
       "array([[[ 11,  12,  13,  14,  15,  16,  17,  18,  19],\n",
       "        [111, 112, 113, 114, 115, 116, 117, 118, 119]],\n",
       "\n",
       "       [[ 21,  22,  23,  24,  25,  26,  27,  28,  29],\n",
       "        [221, 222, 223, 224, 225, 226, 227, 228, 229]]])"
      ]
     },
     "execution_count": 11,
     "metadata": {},
     "output_type": "execute_result"
    }
   ],
   "source": [
    "d = c.reshape([c.shape[0], c.shape[1], c.shape[2] * c.shape[3]])\n",
    "d"
   ]
  },
  {
   "cell_type": "markdown",
   "metadata": {},
   "source": [
    "# End result"
   ]
  },
  {
   "cell_type": "code",
   "execution_count": 12,
   "metadata": {
    "collapsed": true
   },
   "outputs": [],
   "source": [
    "key_count = 0\n",
    "final_list = []\n",
    "keys = {'m':1, 'n':2}\n",
    "for d1 in d:\n",
    "    for d2 in d1:\n",
    "        d2 = list(d2)\n",
    "        d2.append(keys[a.keys()[key_count]])\n",
    "        final_list.append(d2)\n",
    "    key_count = key_count + 1\n",
    "final_list = np.array(final_list)"
   ]
  },
  {
   "cell_type": "code",
   "execution_count": 13,
   "metadata": {
    "collapsed": false
   },
   "outputs": [
    {
     "data": {
      "text/plain": [
       "array([[ 11,  12,  13,  14,  15,  16,  17,  18,  19,   1],\n",
       "       [111, 112, 113, 114, 115, 116, 117, 118, 119,   1],\n",
       "       [ 21,  22,  23,  24,  25,  26,  27,  28,  29,   2],\n",
       "       [221, 222, 223, 224, 225, 226, 227, 228, 229,   2]])"
      ]
     },
     "execution_count": 13,
     "metadata": {},
     "output_type": "execute_result"
    }
   ],
   "source": [
    "final_list"
   ]
  }
 ],
 "metadata": {
  "kernelspec": {
   "display_name": "Python [Root]",
   "language": "python",
   "name": "Python [Root]"
  },
  "language_info": {
   "codemirror_mode": {
    "name": "ipython",
    "version": 2
   },
   "file_extension": ".py",
   "mimetype": "text/x-python",
   "name": "python",
   "nbconvert_exporter": "python",
   "pygments_lexer": "ipython2",
   "version": "2.7.12"
  }
 },
 "nbformat": 4,
 "nbformat_minor": 0
}
