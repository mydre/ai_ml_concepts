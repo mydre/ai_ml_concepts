{
 "cells": [
  {
   "cell_type": "markdown",
   "metadata": {},
   "source": [
    "# Load required Libraries"
   ]
  },
  {
   "cell_type": "code",
   "execution_count": 1,
   "metadata": {
    "collapsed": true
   },
   "outputs": [],
   "source": [
    "%matplotlib inline\n",
    "\n",
    "import tensorflow as tf\n",
    "from tensorflow.examples.tutorials.mnist import input_data"
   ]
  },
  {
   "cell_type": "code",
   "execution_count": null,
   "metadata": {
    "collapsed": true
   },
   "outputs": [],
   "source": []
  },
  {
   "cell_type": "markdown",
   "metadata": {},
   "source": [
    "# Load MNIST data"
   ]
  },
  {
   "cell_type": "code",
   "execution_count": 2,
   "metadata": {
    "collapsed": false
   },
   "outputs": [
    {
     "name": "stdout",
     "output_type": "stream",
     "text": [
      "Extracting MNIST_data/train-images-idx3-ubyte.gz\n",
      "Extracting MNIST_data/train-labels-idx1-ubyte.gz\n",
      "Extracting MNIST_data/t10k-images-idx3-ubyte.gz\n",
      "Extracting MNIST_data/t10k-labels-idx1-ubyte.gz\n"
     ]
    }
   ],
   "source": [
    "mnist = input_data.read_data_sets('MNIST_data', one_hot = True)"
   ]
  },
  {
   "cell_type": "markdown",
   "metadata": {},
   "source": [
    "# Start TensorFlow interactive session\n",
    "\n",
    "Interactive session helps to create tensor graph using interactive coding in IPython, Jupyter etc "
   ]
  },
  {
   "cell_type": "code",
   "execution_count": 3,
   "metadata": {
    "collapsed": true
   },
   "outputs": [],
   "source": [
    "sess = tf.InteractiveSession()"
   ]
  },
  {
   "cell_type": "markdown",
   "metadata": {},
   "source": [
    "Now let's create the graph. We need to define input variables, mulitple convolutional layers having it's own weights and biases and pooling, then a fully connected neural layer. "
   ]
  },
  {
   "cell_type": "markdown",
   "metadata": {},
   "source": [
    "# Create input variables"
   ]
  },
  {
   "cell_type": "code",
   "execution_count": 4,
   "metadata": {
    "collapsed": true
   },
   "outputs": [],
   "source": [
    "x = tf.placeholder(tf.float32, shape=[None,784]) \n",
    "y_ = tf.placeholder(tf.float32, shape=[None, 10])\n",
    "\n",
    "# Here we are not defining number of rows. This will allow to input data with any number of rows\n",
    "# Input has 784 columns (28x28 image) and output has 10 columns/classes. That means total 10 classes can be predicted with this DNN\n"
   ]
  },
  {
   "cell_type": "markdown",
   "metadata": {},
   "source": [
    "# Defining Weights and Bias\n",
    "\n",
    "Throught the network designing, we will require weights and biases to be defined multipe times, hence let's define functions to create weights and biases"
   ]
  },
  {
   "cell_type": "code",
   "execution_count": 5,
   "metadata": {
    "collapsed": true
   },
   "outputs": [],
   "source": [
    "def weight_variable(shape):\n",
    "    initial = tf.truncated_normal(shape=shape, stddev=0.1)\n",
    "    return tf.Variable(initial)\n",
    "# tf.Variable is a data type in tensorflow for containing the data that can be or needs to be modified while processing the graph"
   ]
  },
  {
   "cell_type": "code",
   "execution_count": 6,
   "metadata": {
    "collapsed": true
   },
   "outputs": [],
   "source": [
    "def bias_varible(shape):\n",
    "    bias = tf.constant(shape=shape, value=0.1)\n",
    "    return tf.Variable(bias)"
   ]
  },
  {
   "cell_type": "markdown",
   "metadata": {},
   "source": [
    "Let's create variables and initialize them in the session"
   ]
  },
  {
   "cell_type": "code",
   "execution_count": 7,
   "metadata": {
    "collapsed": false
   },
   "outputs": [],
   "source": [
    "W = weight_variable([784,10])\n",
    "b = bias_varible([10])\n",
    "sess.run(tf.initialize_all_variables())"
   ]
  },
  {
   "cell_type": "markdown",
   "metadata": {},
   "source": [
    "# Prediction and Loss Operation"
   ]
  },
  {
   "cell_type": "markdown",
   "metadata": {},
   "source": [
    "In order to train a model, we need to provide a prediction function, a loss function and a derivative function which will try to minimize the loss."
   ]
  },
  {
   "cell_type": "markdown",
   "metadata": {},
   "source": [
    "## Prediction Operation\n",
    "\n",
    "We need to evaluate below expression\n",
    "\n",
    "y = Wx + b"
   ]
  },
  {
   "cell_type": "code",
   "execution_count": 8,
   "metadata": {
    "collapsed": true
   },
   "outputs": [],
   "source": [
    "y = tf.matmul(a=x, b=W) + b"
   ]
  },
  {
   "cell_type": "markdown",
   "metadata": {},
   "source": [
    "## Loss Operation\n",
    "\n",
    "We need to find difference/cross entropy between y and y_ to find loss. However, since our output is of 10 dimension, we will have to apply softmax function. Also, the calculated loss will have shape of [n,10], hence we will have to take mean to get a loss value."
   ]
  },
  {
   "cell_type": "code",
   "execution_count": 9,
   "metadata": {
    "collapsed": false
   },
   "outputs": [],
   "source": [
    "cross_entropy= tf.nn.softmax_cross_entropy_with_logits(y, y_)\n",
    "loss=tf.reduce_mean(cross_entropy) # loss is 1D value representing total loss mean)"
   ]
  },
  {
   "cell_type": "markdown",
   "metadata": {},
   "source": [
    "## Derivative Operation"
   ]
  },
  {
   "cell_type": "code",
   "execution_count": 10,
   "metadata": {
    "collapsed": true
   },
   "outputs": [],
   "source": [
    "train_step = tf.train.GradientDescentOptimizer(learning_rate=0.5).minimize(loss)"
   ]
  },
  {
   "cell_type": "markdown",
   "metadata": {},
   "source": [
    "By now, we have created the required graph. It has input placeholders, trainable Weight and Bias variables, operation to predict y and function to calculate the loss.\n",
    "\n",
    "Let's feed the graph with Data"
   ]
  },
  {
   "cell_type": "markdown",
   "metadata": {},
   "source": [
    "# Train the Model"
   ]
  },
  {
   "cell_type": "markdown",
   "metadata": {},
   "source": [
    "As part of training the Model, we will have to evaluate the graph by providing values for input placeholders, multiple times."
   ]
  },
  {
   "cell_type": "code",
   "execution_count": 11,
   "metadata": {
    "collapsed": true
   },
   "outputs": [],
   "source": [
    "for i in range(1000):\n",
    "    batch = mnist.train.next_batch(1000)\n",
    "    train_step.run(feed_dict={x:batch[0], y_:batch[1]}) # This is to input data to input placeholders. feed_dict is not restricted to input placeholders only\n",
    "    "
   ]
  },
  {
   "cell_type": "markdown",
   "metadata": {},
   "source": [
    "Above will train our model and put the values in y. We will have to compare y with y_ to find the accuracy."
   ]
  },
  {
   "cell_type": "markdown",
   "metadata": {},
   "source": [
    "# Evaluate Model"
   ]
  },
  {
   "cell_type": "markdown",
   "metadata": {},
   "source": [
    "If we recall, the output y had [n,10] dimensions where each of the 10 columns contains probability or [0,1] to depict where that column is the output. Hence, in order to find out, for each row, which column contains the output or max value. tf.argmax function is used for this purpose.\n",
    "\n",
    "E.g. of outputs:\n",
    "[0,0,1,0,0,0,0,0,0,0]\n",
    "[0,0,0,0,0,0,0,0,0,1]\n",
    "[1,0,0,0,0,0,0,0,0,0]\n",
    "[0,0,0,0,0,0,1,0,0,0]"
   ]
  },
  {
   "cell_type": "code",
   "execution_count": 12,
   "metadata": {
    "collapsed": true
   },
   "outputs": [],
   "source": [
    "correct_prediction = tf.equal(tf.argmax(y,1), tf.argmax(y_,1))\n",
    "# This is provide list of booleans"
   ]
  },
  {
   "cell_type": "markdown",
   "metadata": {},
   "source": [
    "Let's take mean of above booleans to find the accuracy%"
   ]
  },
  {
   "cell_type": "code",
   "execution_count": 13,
   "metadata": {
    "collapsed": false
   },
   "outputs": [],
   "source": [
    "accuracy = tf.reduce_mean(tf.cast(dtype=tf.float16, x=correct_prediction))"
   ]
  },
  {
   "cell_type": "code",
   "execution_count": 14,
   "metadata": {
    "collapsed": false
   },
   "outputs": [
    {
     "name": "stdout",
     "output_type": "stream",
     "text": [
      "0.037231\n"
     ]
    }
   ],
   "source": [
    "print accuracy.eval(feed_dict = {x:mnist.train.images, y_ : mnist.train.labels})"
   ]
  },
  {
   "cell_type": "markdown",
   "metadata": {
    "collapsed": true
   },
   "source": [
    "# Defining Convolution and Pooling"
   ]
  },
  {
   "cell_type": "code",
   "execution_count": 15,
   "metadata": {
    "collapsed": false
   },
   "outputs": [],
   "source": [
    "def conv2d(x, W):\n",
    "    conv = tf.nn.conv2d(x, W, strides=[1,1,1,1], padding = 'SAME')\n",
    "    return conv\n",
    "def max_pool_2x2(x):\n",
    "    return tf.nn.max_pool(x, ksize=[1,2,2,1], strides=[1,2,2,1], padding=\"SAME\")"
   ]
  },
  {
   "cell_type": "code",
   "execution_count": 16,
   "metadata": {
    "collapsed": true
   },
   "outputs": [],
   "source": [
    "x_image = tf.reshape(x, [-1,28,28,1]) \n",
    "# This dimension contains row count, image (28 x 28), color channel (1). \n",
    "# We are keeping -1 as row count because we will not know before hand how many rows of data we will be using for training."
   ]
  },
  {
   "cell_type": "code",
   "execution_count": 17,
   "metadata": {
    "collapsed": false
   },
   "outputs": [
    {
     "name": "stdout",
     "output_type": "stream",
     "text": [
      "(?, 784)\n",
      "(?, 28, 28, 1)\n"
     ]
    }
   ],
   "source": [
    "print x.get_shape()\n",
    "print x_image.get_shape()"
   ]
  },
  {
   "cell_type": "markdown",
   "metadata": {},
   "source": [
    "### Convolve and Apply Relu\n",
    "#### Layer 1"
   ]
  },
  {
   "cell_type": "code",
   "execution_count": 18,
   "metadata": {
    "collapsed": true
   },
   "outputs": [],
   "source": [
    "W_conv1 = weight_variable([5,5,1,32])\n",
    "b_conv1 = bias_varible([32])"
   ]
  },
  {
   "cell_type": "code",
   "execution_count": 19,
   "metadata": {
    "collapsed": false
   },
   "outputs": [
    {
     "name": "stdout",
     "output_type": "stream",
     "text": [
      "(?, 28, 28, 32)\n",
      "(?, 28, 28, 32)\n",
      "(?, 14, 14, 32)\n"
     ]
    }
   ],
   "source": [
    "h_conv1 = conv2d(x_image, W_conv1) + b_conv1\n",
    "print h_conv1.get_shape()\n",
    "\n",
    "h_conv1_relu = tf.nn.relu(h_conv1)\n",
    "print h_conv1_relu.get_shape()\n",
    "\n",
    "h_pool1 = max_pool_2x2(h_conv1_relu)\n",
    "print h_pool1.get_shape()"
   ]
  },
  {
   "cell_type": "markdown",
   "metadata": {},
   "source": [
    "After first convolution layer, an image of 28 x 28 x 1 size i.e. 784 when flatten, will convolve to 28 x 28 x 32 matrix, where 32 are different features of the image.  \n",
    "Now we need to have 64 features in layer 2, hence we will create weights based on   \n",
    "[  \n",
    "  convolve matrix [5 x 5] x  \n",
    "  number of existing channels/features [32] x  \n",
    "  number of new features desired [64]  \n",
    "]\n",
    "\n",
    "#### Layer 2"
   ]
  },
  {
   "cell_type": "code",
   "execution_count": 22,
   "metadata": {
    "collapsed": false
   },
   "outputs": [],
   "source": [
    "\n",
    "W_conv2 = weight_variable([5,5,32,64])\n",
    "b_conv2 = bias_varible([64])"
   ]
  },
  {
   "cell_type": "code",
   "execution_count": 23,
   "metadata": {
    "collapsed": false
   },
   "outputs": [
    {
     "name": "stdout",
     "output_type": "stream",
     "text": [
      "(?, 14, 14, 64)\n",
      "(?, 14, 14, 64)\n",
      "(?, 7, 7, 64)\n"
     ]
    }
   ],
   "source": [
    "h_conv2 = conv2d(W=W_conv2, x=h_pool1)\n",
    "print h_conv2.get_shape()\n",
    "\n",
    "h_conv2_relu = tf.nn.relu(h_conv2)\n",
    "print h_conv2_relu.get_shape()\n",
    "\n",
    "h_pool2 = max_pool_2x2(x=h_conv2_relu)\n",
    "print h_pool2.get_shape()"
   ]
  },
  {
   "cell_type": "markdown",
   "metadata": {},
   "source": [
    "# Fully Connected Neural Network\n",
    "\n",
    "Now the image size is 7 * 7 per feature and there are total 64 features. Let's pass this data through Neural Network. In order to do that we will be required to flatten current 3D image data to 2D"
   ]
  },
  {
   "cell_type": "code",
   "execution_count": 24,
   "metadata": {
    "collapsed": false
   },
   "outputs": [],
   "source": [
    "h_pool2_flat = tf.reshape(h_pool2, [-1, 7*7*64])\n",
    "# -1 indicates number of rows"
   ]
  },
  {
   "cell_type": "markdown",
   "metadata": {},
   "source": [
    "We will be created a NN with 1 layer of 1024 neurons"
   ]
  },
  {
   "cell_type": "code",
   "execution_count": 28,
   "metadata": {
    "collapsed": false
   },
   "outputs": [],
   "source": [
    "W_fc1 = weight_variable([7 * 7 * 64, 1024])\n",
    "b_fc1 = bias_varible([1024])\n",
    "h_fc1 = tf.nn.relu(tf.matmul(b= W_fc1, a = h_pool2_flat ) + b_fc1) "
   ]
  },
  {
   "cell_type": "markdown",
   "metadata": {
    "collapsed": true
   },
   "source": [
    "# Dropout\n",
    "\n",
    "We need to drop some results to avoid overfitting"
   ]
  },
  {
   "cell_type": "code",
   "execution_count": 30,
   "metadata": {
    "collapsed": false
   },
   "outputs": [],
   "source": [
    "keep_prob = tf.placeholder(tf.float32)\n",
    "h_fc1_drop = tf.nn.dropout(h_fc1, keep_prob)"
   ]
  },
  {
   "cell_type": "markdown",
   "metadata": {},
   "source": [
    "# Readout layer\n",
    "\n",
    "We wil aply softmax function to convert our 1024 outputs to 10 outputs (classes) using Softmax Regression\n"
   ]
  },
  {
   "cell_type": "code",
   "execution_count": 32,
   "metadata": {
    "collapsed": false
   },
   "outputs": [],
   "source": [
    "W_fc2 = weight_variable([1024,10])\n",
    "b_fc2 = bias_varible([10])\n",
    "y_conv = tf.matmul(b = W_fc2, a = h_fc1_drop) + b_fc2"
   ]
  },
  {
   "cell_type": "markdown",
   "metadata": {},
   "source": [
    "# Calculate Error\n",
    "\n",
    "We will calculate the error using cross entropy"
   ]
  },
  {
   "cell_type": "code",
   "execution_count": 33,
   "metadata": {
    "collapsed": false
   },
   "outputs": [],
   "source": [
    "error = tf.reduce_mean(tf.nn.softmax_cross_entropy_with_logits(y_conv, y_))"
   ]
  },
  {
   "cell_type": "markdown",
   "metadata": {},
   "source": [
    "# Optimizer"
   ]
  },
  {
   "cell_type": "code",
   "execution_count": 34,
   "metadata": {
    "collapsed": true
   },
   "outputs": [],
   "source": [
    "step = tf.train.AdamOptimizer(1e-04).minimize(error)"
   ]
  },
  {
   "cell_type": "markdown",
   "metadata": {},
   "source": [
    "# Accuracy"
   ]
  },
  {
   "cell_type": "code",
   "execution_count": 37,
   "metadata": {
    "collapsed": false
   },
   "outputs": [],
   "source": [
    "correct_prediction = tf.equal(tf.argmax(y_conv,1), tf.argmax(y_,1))\n",
    "accuracy = tf.reduce_mean(tf.cast(correct_prediction,tf.float32))"
   ]
  },
  {
   "cell_type": "markdown",
   "metadata": {},
   "source": [
    "# Training\n",
    "\n",
    "The graph has been created. Let's start the training code\n",
    "\n",
    "## Initialize Variables"
   ]
  },
  {
   "cell_type": "code",
   "execution_count": 38,
   "metadata": {
    "collapsed": false
   },
   "outputs": [],
   "source": [
    "sess.run(tf.initialize_all_variables())"
   ]
  },
  {
   "cell_type": "markdown",
   "metadata": {},
   "source": [
    "## Train Model"
   ]
  },
  {
   "cell_type": "markdown",
   "metadata": {},
   "source": [
    "### Create Feed Dictionary"
   ]
  },
  {
   "cell_type": "code",
   "execution_count": 39,
   "metadata": {
    "collapsed": true
   },
   "outputs": [],
   "source": [
    "feed_dict = {\n",
    "                x:batch[0],\n",
    "                y_:batch[1],\n",
    "                keep_prob:0.5\n",
    "            }"
   ]
  },
  {
   "cell_type": "markdown",
   "metadata": {},
   "source": [
    "### Iteratively Train model"
   ]
  },
  {
   "cell_type": "code",
   "execution_count": null,
   "metadata": {
    "collapsed": false
   },
   "outputs": [
    {
     "name": "stdout",
     "output_type": "stream",
     "text": [
      "Step 0, training accuracy 0.108\n",
      "Step 100, training accuracy 0.108\n",
      "Step 200, training accuracy 0.108\n",
      "Step 300, training accuracy 0.108\n",
      "Step 400, training accuracy 0.108\n",
      "Step 500, training accuracy 0.108\n",
      "Step 600, training accuracy 0.108\n",
      "Step 700, training accuracy 0.108\n",
      "Step 800, training accuracy 0.108\n",
      "Step 900, training accuracy 0.108\n",
      "Step 1000, training accuracy 0.108\n",
      "Step 1100, training accuracy 0.108\n",
      "Step 1200, training accuracy 0.108\n",
      "Step 1300, training accuracy 0.108\n",
      "Step 1400, training accuracy 0.108\n",
      "Step 1500, training accuracy 0.108\n",
      "Step 1600, training accuracy 0.108\n",
      "Step 1700, training accuracy 0.108\n",
      "Step 1800, training accuracy 0.108\n",
      "Step 1900, training accuracy 0.108\n",
      "Step 2000, training accuracy 0.108\n",
      "Step 2100, training accuracy 0.108\n",
      "Step 2200, training accuracy 0.108\n",
      "Step 2300, training accuracy 0.108\n",
      "Step 2400, training accuracy 0.108\n",
      "Step 2500, training accuracy 0.108\n",
      "Step 2600, training accuracy 0.108\n",
      "Step 2700, training accuracy 0.108\n",
      "Step 2800, training accuracy 0.108\n",
      "Step 2900, training accuracy 0.108\n",
      "Step 3000, training accuracy 0.108\n",
      "Step 3100, training accuracy 0.108\n",
      "Step 3200, training accuracy 0.108\n",
      "Step 3300, training accuracy 0.108\n",
      "Step 3400, training accuracy 0.108\n",
      "Step 3500, training accuracy 0.108\n",
      "Step 3600, training accuracy 0.108\n",
      "Step 3700, training accuracy 0.108\n",
      "Step 3800, training accuracy 0.108\n",
      "Step 3900, training accuracy 0.108\n",
      "Step 4000, training accuracy 0.108\n",
      "Step 4100, training accuracy 0.108\n",
      "Step 4200, training accuracy 0.108\n",
      "Step 4300, training accuracy 0.108\n",
      "Step 4400, training accuracy 0.108\n",
      "Step 4500, training accuracy 0.108\n",
      "Step 4600, training accuracy 0.108\n",
      "Step 4700, training accuracy 0.108\n",
      "Step 4800, training accuracy 0.108\n",
      "Step 4900, training accuracy 0.108\n",
      "Step 5000, training accuracy 0.108\n",
      "Step 5100, training accuracy 0.108\n",
      "Step 5200, training accuracy 0.108\n",
      "Step 5300, training accuracy 0.108\n",
      "Step 5400, training accuracy 0.108\n",
      "Step 5500, training accuracy 0.108\n",
      "Step 5600, training accuracy 0.108\n",
      "Step 5700, training accuracy 0.108\n",
      "Step 5800, training accuracy 0.108\n",
      "Step 5900, training accuracy 0.108\n",
      "Step 6000, training accuracy 0.108\n",
      "Step 6100, training accuracy 0.108\n",
      "Step 6200, training accuracy 0.108\n",
      "Step 6300, training accuracy 0.108\n",
      "Step 6400, training accuracy 0.108\n",
      "Step 6500, training accuracy 0.108\n",
      "Step 6600, training accuracy 0.108\n",
      "Step 6700, training accuracy 0.108\n",
      "Step 6800, training accuracy 0.108\n",
      "Step 6900, training accuracy 0.108\n",
      "Step 7000, training accuracy 0.108\n",
      "Step 7100, training accuracy 0.108\n",
      "Step 7200, training accuracy 0.108\n",
      "Step 7300, training accuracy 0.108\n",
      "Step 7400, training accuracy 0.108\n",
      "Step 7500, training accuracy 0.108\n",
      "Step 7600, training accuracy 0.108\n",
      "Step 7700, training accuracy 0.108\n",
      "Step 7800, training accuracy 0.108\n",
      "Step 7900, training accuracy 0.108\n",
      "Step 8000, training accuracy 0.108\n",
      "Step 8100, training accuracy 0.108\n",
      "Step 8200, training accuracy 0.108\n",
      "Step 8300, training accuracy 0.108\n",
      "Step 8400, training accuracy 0.108\n",
      "Step 8500, training accuracy 0.108\n",
      "Step 8600, training accuracy 0.108\n",
      "Step 8700, training accuracy 0.108\n",
      "Step 8800, training accuracy 0.108\n",
      "Step 8900, training accuracy 0.108\n",
      "Step 9000, training accuracy 0.108\n",
      "Step 9100, training accuracy 0.108\n",
      "Step 9200, training accuracy 0.108\n",
      "Step 9300, training accuracy 0.108\n",
      "Step 9400, training accuracy 0.108\n",
      "Step 9500, training accuracy 0.108\n",
      "Step 9600, training accuracy 0.108\n",
      "Step 9700, training accuracy 0.108\n",
      "Step 9800, training accuracy 0.108\n",
      "Step 9900, training accuracy 0.108\n",
      "Step 10000, training accuracy 0.108\n",
      "Step 10100, training accuracy 0.108\n",
      "Step 10200, training accuracy 0.108\n",
      "Step 10300, training accuracy 0.108\n",
      "Step 10400, training accuracy 0.108\n",
      "Step 10500, training accuracy 0.108\n",
      "Step 10600, training accuracy 0.108\n",
      "Step 10700, training accuracy 0.108\n",
      "Step 10800, training accuracy 0.108\n",
      "Step 10900, training accuracy 0.108\n",
      "Step 11000, training accuracy 0.108\n",
      "Step 11100, training accuracy 0.108\n",
      "Step 11200, training accuracy 0.108\n",
      "Step 11300, training accuracy 0.108\n",
      "Step 11400, training accuracy 0.108\n",
      "Step 11500, training accuracy 0.108\n",
      "Step 11600, training accuracy 0.108\n",
      "Step 11700, training accuracy 0.108\n",
      "Step 11800, training accuracy 0.108\n",
      "Step 11900, training accuracy 0.108\n",
      "Step 12000, training accuracy 0.108\n",
      "Step 12100, training accuracy 0.108\n",
      "Step 12200, training accuracy 0.108\n",
      "Step 12300, training accuracy 0.108\n",
      "Step 12400, training accuracy 0.108\n",
      "Step 12500, training accuracy 0.108\n",
      "Step 12600, training accuracy 0.108\n",
      "Step 12700, training accuracy 0.108\n",
      "Step 12800, training accuracy 0.108\n",
      "Step 12900, training accuracy 0.108\n",
      "Step 13000, training accuracy 0.108\n",
      "Step 13100, training accuracy 0.108\n",
      "Step 13200, training accuracy 0.108\n"
     ]
    },
    {
     "ename": "KeyboardInterrupt",
     "evalue": "",
     "output_type": "error",
     "traceback": [
      "\u001b[0;31m\u001b[0m",
      "\u001b[0;31mKeyboardInterrupt\u001b[0mTraceback (most recent call last)",
      "\u001b[0;32m<ipython-input-40-fe0238c59bfc>\u001b[0m in \u001b[0;36m<module>\u001b[0;34m()\u001b[0m\n\u001b[1;32m      8\u001b[0m         \u001b[0;32mprint\u001b[0m \u001b[0;34m(\u001b[0m\u001b[0;34m\"Step %d, training accuracy %g\"\u001b[0m \u001b[0;34m%\u001b[0m \u001b[0;34m(\u001b[0m\u001b[0mi\u001b[0m\u001b[0;34m,\u001b[0m \u001b[0mtrain_accuracy\u001b[0m\u001b[0;34m)\u001b[0m\u001b[0;34m)\u001b[0m\u001b[0;34m\u001b[0m\u001b[0m\n\u001b[1;32m      9\u001b[0m \u001b[0;34m\u001b[0m\u001b[0m\n\u001b[0;32m---> 10\u001b[0;31m     \u001b[0mtrain_step\u001b[0m\u001b[0;34m.\u001b[0m\u001b[0mrun\u001b[0m\u001b[0;34m(\u001b[0m\u001b[0mfeed_dict\u001b[0m \u001b[0;34m=\u001b[0m \u001b[0mfeed_dict\u001b[0m\u001b[0;34m)\u001b[0m\u001b[0;34m\u001b[0m\u001b[0m\n\u001b[0m",
      "\u001b[0;32m/home/ritesh_malaiya/anaconda2/envs/tensorflow/lib/python2.7/site-packages/tensorflow/python/framework/ops.pyc\u001b[0m in \u001b[0;36mrun\u001b[0;34m(self, feed_dict, session)\u001b[0m\n\u001b[1;32m   1558\u001b[0m         \u001b[0mnone\u001b[0m\u001b[0;34m,\u001b[0m \u001b[0mthe\u001b[0m \u001b[0mdefault\u001b[0m \u001b[0msession\u001b[0m \u001b[0mwill\u001b[0m \u001b[0mbe\u001b[0m \u001b[0mused\u001b[0m\u001b[0;34m.\u001b[0m\u001b[0;34m\u001b[0m\u001b[0m\n\u001b[1;32m   1559\u001b[0m     \"\"\"\n\u001b[0;32m-> 1560\u001b[0;31m     \u001b[0m_run_using_default_session\u001b[0m\u001b[0;34m(\u001b[0m\u001b[0mself\u001b[0m\u001b[0;34m,\u001b[0m \u001b[0mfeed_dict\u001b[0m\u001b[0;34m,\u001b[0m \u001b[0mself\u001b[0m\u001b[0;34m.\u001b[0m\u001b[0mgraph\u001b[0m\u001b[0;34m,\u001b[0m \u001b[0msession\u001b[0m\u001b[0;34m)\u001b[0m\u001b[0;34m\u001b[0m\u001b[0m\n\u001b[0m\u001b[1;32m   1561\u001b[0m \u001b[0;34m\u001b[0m\u001b[0m\n\u001b[1;32m   1562\u001b[0m \u001b[0;34m\u001b[0m\u001b[0m\n",
      "\u001b[0;32m/home/ritesh_malaiya/anaconda2/envs/tensorflow/lib/python2.7/site-packages/tensorflow/python/framework/ops.pyc\u001b[0m in \u001b[0;36m_run_using_default_session\u001b[0;34m(operation, feed_dict, graph, session)\u001b[0m\n\u001b[1;32m   3689\u001b[0m                        \u001b[0;34m\"the operation's graph is different from the session's \"\u001b[0m\u001b[0;34m\u001b[0m\u001b[0m\n\u001b[1;32m   3690\u001b[0m                        \"graph.\")\n\u001b[0;32m-> 3691\u001b[0;31m   \u001b[0msession\u001b[0m\u001b[0;34m.\u001b[0m\u001b[0mrun\u001b[0m\u001b[0;34m(\u001b[0m\u001b[0moperation\u001b[0m\u001b[0;34m,\u001b[0m \u001b[0mfeed_dict\u001b[0m\u001b[0;34m)\u001b[0m\u001b[0;34m\u001b[0m\u001b[0m\n\u001b[0m\u001b[1;32m   3692\u001b[0m \u001b[0;34m\u001b[0m\u001b[0m\n\u001b[1;32m   3693\u001b[0m \u001b[0;34m\u001b[0m\u001b[0m\n",
      "\u001b[0;32m/home/ritesh_malaiya/anaconda2/envs/tensorflow/lib/python2.7/site-packages/tensorflow/python/client/session.pyc\u001b[0m in \u001b[0;36mrun\u001b[0;34m(self, fetches, feed_dict, options, run_metadata)\u001b[0m\n\u001b[1;32m    708\u001b[0m     \u001b[0;32mtry\u001b[0m\u001b[0;34m:\u001b[0m\u001b[0;34m\u001b[0m\u001b[0m\n\u001b[1;32m    709\u001b[0m       result = self._run(None, fetches, feed_dict, options_ptr,\n\u001b[0;32m--> 710\u001b[0;31m                          run_metadata_ptr)\n\u001b[0m\u001b[1;32m    711\u001b[0m       \u001b[0;32mif\u001b[0m \u001b[0mrun_metadata\u001b[0m\u001b[0;34m:\u001b[0m\u001b[0;34m\u001b[0m\u001b[0m\n\u001b[1;32m    712\u001b[0m         \u001b[0mproto_data\u001b[0m \u001b[0;34m=\u001b[0m \u001b[0mtf_session\u001b[0m\u001b[0;34m.\u001b[0m\u001b[0mTF_GetBuffer\u001b[0m\u001b[0;34m(\u001b[0m\u001b[0mrun_metadata_ptr\u001b[0m\u001b[0;34m)\u001b[0m\u001b[0;34m\u001b[0m\u001b[0m\n",
      "\u001b[0;32m/home/ritesh_malaiya/anaconda2/envs/tensorflow/lib/python2.7/site-packages/tensorflow/python/client/session.pyc\u001b[0m in \u001b[0;36m_run\u001b[0;34m(self, handle, fetches, feed_dict, options, run_metadata)\u001b[0m\n\u001b[1;32m    906\u001b[0m     \u001b[0;32mif\u001b[0m \u001b[0mfinal_fetches\u001b[0m \u001b[0;32mor\u001b[0m \u001b[0mfinal_targets\u001b[0m\u001b[0;34m:\u001b[0m\u001b[0;34m\u001b[0m\u001b[0m\n\u001b[1;32m    907\u001b[0m       results = self._do_run(handle, final_targets, final_fetches,\n\u001b[0;32m--> 908\u001b[0;31m                              feed_dict_string, options, run_metadata)\n\u001b[0m\u001b[1;32m    909\u001b[0m     \u001b[0;32melse\u001b[0m\u001b[0;34m:\u001b[0m\u001b[0;34m\u001b[0m\u001b[0m\n\u001b[1;32m    910\u001b[0m       \u001b[0mresults\u001b[0m \u001b[0;34m=\u001b[0m \u001b[0;34m[\u001b[0m\u001b[0;34m]\u001b[0m\u001b[0;34m\u001b[0m\u001b[0m\n",
      "\u001b[0;32m/home/ritesh_malaiya/anaconda2/envs/tensorflow/lib/python2.7/site-packages/tensorflow/python/client/session.pyc\u001b[0m in \u001b[0;36m_do_run\u001b[0;34m(self, handle, target_list, fetch_list, feed_dict, options, run_metadata)\u001b[0m\n\u001b[1;32m    956\u001b[0m     \u001b[0;32mif\u001b[0m \u001b[0mhandle\u001b[0m \u001b[0;32mis\u001b[0m \u001b[0mNone\u001b[0m\u001b[0;34m:\u001b[0m\u001b[0;34m\u001b[0m\u001b[0m\n\u001b[1;32m    957\u001b[0m       return self._do_call(_run_fn, self._session, feed_dict, fetch_list,\n\u001b[0;32m--> 958\u001b[0;31m                            target_list, options, run_metadata)\n\u001b[0m\u001b[1;32m    959\u001b[0m     \u001b[0;32melse\u001b[0m\u001b[0;34m:\u001b[0m\u001b[0;34m\u001b[0m\u001b[0m\n\u001b[1;32m    960\u001b[0m       return self._do_call(_prun_fn, self._session, handle, feed_dict,\n",
      "\u001b[0;32m/home/ritesh_malaiya/anaconda2/envs/tensorflow/lib/python2.7/site-packages/tensorflow/python/client/session.pyc\u001b[0m in \u001b[0;36m_do_call\u001b[0;34m(self, fn, *args)\u001b[0m\n\u001b[1;32m    963\u001b[0m   \u001b[0;32mdef\u001b[0m \u001b[0m_do_call\u001b[0m\u001b[0;34m(\u001b[0m\u001b[0mself\u001b[0m\u001b[0;34m,\u001b[0m \u001b[0mfn\u001b[0m\u001b[0;34m,\u001b[0m \u001b[0;34m*\u001b[0m\u001b[0margs\u001b[0m\u001b[0;34m)\u001b[0m\u001b[0;34m:\u001b[0m\u001b[0;34m\u001b[0m\u001b[0m\n\u001b[1;32m    964\u001b[0m     \u001b[0;32mtry\u001b[0m\u001b[0;34m:\u001b[0m\u001b[0;34m\u001b[0m\u001b[0m\n\u001b[0;32m--> 965\u001b[0;31m       \u001b[0;32mreturn\u001b[0m \u001b[0mfn\u001b[0m\u001b[0;34m(\u001b[0m\u001b[0;34m*\u001b[0m\u001b[0margs\u001b[0m\u001b[0;34m)\u001b[0m\u001b[0;34m\u001b[0m\u001b[0m\n\u001b[0m\u001b[1;32m    966\u001b[0m     \u001b[0;32mexcept\u001b[0m \u001b[0merrors\u001b[0m\u001b[0;34m.\u001b[0m\u001b[0mOpError\u001b[0m \u001b[0;32mas\u001b[0m \u001b[0me\u001b[0m\u001b[0;34m:\u001b[0m\u001b[0;34m\u001b[0m\u001b[0m\n\u001b[1;32m    967\u001b[0m       \u001b[0mmessage\u001b[0m \u001b[0;34m=\u001b[0m \u001b[0mcompat\u001b[0m\u001b[0;34m.\u001b[0m\u001b[0mas_text\u001b[0m\u001b[0;34m(\u001b[0m\u001b[0me\u001b[0m\u001b[0;34m.\u001b[0m\u001b[0mmessage\u001b[0m\u001b[0;34m)\u001b[0m\u001b[0;34m\u001b[0m\u001b[0m\n",
      "\u001b[0;32m/home/ritesh_malaiya/anaconda2/envs/tensorflow/lib/python2.7/site-packages/tensorflow/python/client/session.pyc\u001b[0m in \u001b[0;36m_run_fn\u001b[0;34m(session, feed_dict, fetch_list, target_list, options, run_metadata)\u001b[0m\n\u001b[1;32m    945\u001b[0m         return tf_session.TF_Run(session, options,\n\u001b[1;32m    946\u001b[0m                                  \u001b[0mfeed_dict\u001b[0m\u001b[0;34m,\u001b[0m \u001b[0mfetch_list\u001b[0m\u001b[0;34m,\u001b[0m \u001b[0mtarget_list\u001b[0m\u001b[0;34m,\u001b[0m\u001b[0;34m\u001b[0m\u001b[0m\n\u001b[0;32m--> 947\u001b[0;31m                                  status, run_metadata)\n\u001b[0m\u001b[1;32m    948\u001b[0m \u001b[0;34m\u001b[0m\u001b[0m\n\u001b[1;32m    949\u001b[0m     \u001b[0;32mdef\u001b[0m \u001b[0m_prun_fn\u001b[0m\u001b[0;34m(\u001b[0m\u001b[0msession\u001b[0m\u001b[0;34m,\u001b[0m \u001b[0mhandle\u001b[0m\u001b[0;34m,\u001b[0m \u001b[0mfeed_dict\u001b[0m\u001b[0;34m,\u001b[0m \u001b[0mfetch_list\u001b[0m\u001b[0;34m)\u001b[0m\u001b[0;34m:\u001b[0m\u001b[0;34m\u001b[0m\u001b[0m\n",
      "\u001b[0;31mKeyboardInterrupt\u001b[0m: "
     ]
    }
   ],
   "source": [
    "\n",
    "for i in range(2000):\n",
    "    batch = mnist.train.next_batch(50)\n",
    "    if i % 500 == 0:\n",
    "        train_accuracy = accuracy.eval(\n",
    "        feed_dict = feed_dict\n",
    "        )\n",
    "        print (\"Step %d, training accuracy %g\" % (i, train_accuracy))\n",
    "        \n",
    "    step.run(feed_dict = feed_dict)\n"
   ]
  },
  {
   "cell_type": "markdown",
   "metadata": {},
   "source": [
    "# Test Model"
   ]
  },
  {
   "cell_type": "code",
   "execution_count": null,
   "metadata": {
    "collapsed": true
   },
   "outputs": [],
   "source": [
    "print(\"Test accuracy %g\" % accuracy.eval(\n",
    "        feed_dict = {\n",
    "            x:mnist.test.images, \n",
    "            y_:mnist.test.labels,\n",
    "            keep_prob:1\n",
    "            }\n",
    "        )\n",
    "      )"
   ]
  }
 ],
 "metadata": {
  "anaconda-cloud": {},
  "kernelspec": {
   "display_name": "Python [conda env:tensorflow]",
   "language": "python",
   "name": "conda-env-tensorflow-py"
  },
  "language_info": {
   "codemirror_mode": {
    "name": "ipython",
    "version": 2
   },
   "file_extension": ".py",
   "mimetype": "text/x-python",
   "name": "python",
   "nbconvert_exporter": "python",
   "pygments_lexer": "ipython2",
   "version": "2.7.12"
  }
 },
 "nbformat": 4,
 "nbformat_minor": 0
}
