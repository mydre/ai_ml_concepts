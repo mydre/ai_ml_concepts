{
 "cells": [
  {
   "cell_type": "code",
   "execution_count": 1,
   "metadata": {
    "collapsed": false
   },
   "outputs": [],
   "source": [
    "%matplotlib inline\n",
    "\n",
    "from scipy import ndimage as nd\n",
    "import os\n",
    "import sys\n",
    "import scipy as sc\n",
    "import numpy as np\n",
    "import pickle as pk\n",
    "import matplotlib.pyplot as plt\n",
    "from sklearn.metrics import confusion_matrix\n",
    "from sklearn.model_selection import ShuffleSplit\n",
    "from sklearn.model_selection import train_test_split\n",
    "from sklearn.linear_model import LinearRegression\n",
    "from sklearn.linear_model import LogisticRegression\n",
    "from sklearn.model_selection import cross_val_score\n"
   ]
  },
  {
   "cell_type": "code",
   "execution_count": 2,
   "metadata": {
    "collapsed": false
   },
   "outputs": [],
   "source": [
    "folders_train = os.walk(\"../datasets/notMNIST/notMNIST_large\").next()[1]\n",
    "folders_test = os.walk(\"../datasets/notMNIST/notMNIST_small\").next()[1]"
   ]
  },
  {
   "cell_type": "code",
   "execution_count": 3,
   "metadata": {
    "collapsed": false
   },
   "outputs": [],
   "source": [
    "def load_image(imageFolderName):\n",
    "    \n",
    "    allImageArray = dict()\n",
    "    \n",
    "    maxAllowedNoOfImagesPerClass = 1000\n",
    "        \n",
    "    if(os.path.exists(\"../datasets/notMNIST/all_image_array_\"+ imageFolderName.split(\"./\")[1] +\".pickle\")):\n",
    "        allImageArray = pk.load(open(\"all_image_array_\"+ imageFolderName.split(\"./\")[1] +\".pickle\", \"rb\"))\n",
    "        print \"Images loaded for class - label:\" + str(list(allImageArray.viewkeys()))\n",
    "        return allImageArray\n",
    "                  \n",
    "    folders = os.walk(imageFolderName).next()[1]\n",
    "    \n",
    "    for folder in folders:\n",
    "        imageArray = []\n",
    "        currentLetter = folder\n",
    "        folder = os.path.join(imageFolderName, folder)\n",
    "        print \"Getting images from folder \" + folder\n",
    "        images = os.walk(folder).next()[2]\n",
    "        sys.stdout.write(\"Starting to Read image from:\" + folder + \"\\n\")\n",
    "        currentNoOfImagesPerClass = 0\n",
    "        \n",
    "        for image in images:\n",
    "            image = os.path.join(folder, image)\n",
    "            try:\n",
    "                currentImageArray = sc.misc.imread(image)\n",
    "                imageArray.append(currentImageArray)\n",
    "            except (IOError):\n",
    "                print \"Ignoring image: \" + image\n",
    "            currentNoOfImagesPerClass = currentNoOfImagesPerClass + 1\n",
    "            if(currentNoOfImagesPerClass > maxAllowedNoOfImagesPerClass ):\n",
    "                break\n",
    "        allImageArray.update({currentLetter:imageArray})\n",
    "        print \"All Images read from folder\" + folder + \", total image types till now:\" + str(list(allImageArray.viewkeys()))\n",
    "                  \n",
    "    pk.dump(allImageArray, open(\"../datasets/notMNIST/all_image_array_\"+ imageFolderName.split(\"./\")[1] +\".pickle\", \"wb\"), pk.HIGHEST_PROTOCOL)\n",
    "    return allImageArray"
   ]
  },
  {
   "cell_type": "code",
   "execution_count": 4,
   "metadata": {
    "collapsed": false,
    "scrolled": true
   },
   "outputs": [
    {
     "name": "stdout",
     "output_type": "stream",
     "text": [
      "Getting images from folder ../datasets/notMNIST/notMNIST_large/B\n",
      "Starting to Read image from:../datasets/notMNIST/notMNIST_large/B\n"
     ]
    },
    {
     "ename": "AttributeError",
     "evalue": "'module' object has no attribute 'imread'",
     "output_type": "error",
     "traceback": [
      "\u001b[0;31m\u001b[0m",
      "\u001b[0;31mAttributeError\u001b[0mTraceback (most recent call last)",
      "\u001b[0;32m<ipython-input-4-deed0bbc982a>\u001b[0m in \u001b[0;36m<module>\u001b[0;34m()\u001b[0m\n\u001b[0;32m----> 1\u001b[0;31m \u001b[0mallImageArrayTrain\u001b[0m \u001b[0;34m=\u001b[0m \u001b[0mload_image\u001b[0m\u001b[0;34m(\u001b[0m\u001b[0;34m\"../datasets/notMNIST/notMNIST_large\"\u001b[0m\u001b[0;34m)\u001b[0m\u001b[0;34m\u001b[0m\u001b[0m\n\u001b[0m",
      "\u001b[0;32m<ipython-input-3-fb010b17dbc6>\u001b[0m in \u001b[0;36mload_image\u001b[0;34m(imageFolderName)\u001b[0m\n\u001b[1;32m     24\u001b[0m             \u001b[0mimage\u001b[0m \u001b[0;34m=\u001b[0m \u001b[0mos\u001b[0m\u001b[0;34m.\u001b[0m\u001b[0mpath\u001b[0m\u001b[0;34m.\u001b[0m\u001b[0mjoin\u001b[0m\u001b[0;34m(\u001b[0m\u001b[0mfolder\u001b[0m\u001b[0;34m,\u001b[0m \u001b[0mimage\u001b[0m\u001b[0;34m)\u001b[0m\u001b[0;34m\u001b[0m\u001b[0m\n\u001b[1;32m     25\u001b[0m             \u001b[0;32mtry\u001b[0m\u001b[0;34m:\u001b[0m\u001b[0;34m\u001b[0m\u001b[0m\n\u001b[0;32m---> 26\u001b[0;31m                 \u001b[0mcurrentImageArray\u001b[0m \u001b[0;34m=\u001b[0m \u001b[0msc\u001b[0m\u001b[0;34m.\u001b[0m\u001b[0mmisc\u001b[0m\u001b[0;34m.\u001b[0m\u001b[0mimread\u001b[0m\u001b[0;34m(\u001b[0m\u001b[0mimage\u001b[0m\u001b[0;34m)\u001b[0m\u001b[0;34m\u001b[0m\u001b[0m\n\u001b[0m\u001b[1;32m     27\u001b[0m                 \u001b[0mimageArray\u001b[0m\u001b[0;34m.\u001b[0m\u001b[0mappend\u001b[0m\u001b[0;34m(\u001b[0m\u001b[0mcurrentImageArray\u001b[0m\u001b[0;34m)\u001b[0m\u001b[0;34m\u001b[0m\u001b[0m\n\u001b[1;32m     28\u001b[0m             \u001b[0;32mexcept\u001b[0m \u001b[0;34m(\u001b[0m\u001b[0mIOError\u001b[0m\u001b[0;34m)\u001b[0m\u001b[0;34m:\u001b[0m\u001b[0;34m\u001b[0m\u001b[0m\n",
      "\u001b[0;31mAttributeError\u001b[0m: 'module' object has no attribute 'imread'"
     ]
    }
   ],
   "source": [
    "allImageArrayTrain = load_image(\"../datasets/notMNIST/notMNIST_large\")"
   ]
  },
  {
   "cell_type": "code",
   "execution_count": null,
   "metadata": {
    "collapsed": false
   },
   "outputs": [],
   "source": [
    "allImageArrayTest = load_image(\"../datasets/notMNIST/notMNIST_small\")"
   ]
  },
  {
   "cell_type": "code",
   "execution_count": null,
   "metadata": {
    "collapsed": false
   },
   "outputs": [],
   "source": [
    "plt.imshow(allImageArrayTrain['B'][100])"
   ]
  },
  {
   "cell_type": "code",
   "execution_count": null,
   "metadata": {
    "collapsed": false
   },
   "outputs": [],
   "source": [
    "plt.imshow(allImageArrayTrain['J'][200])"
   ]
  },
  {
   "cell_type": "code",
   "execution_count": null,
   "metadata": {
    "collapsed": false
   },
   "outputs": [],
   "source": [
    "for k,v in allImageArrayTrain.viewitems():\n",
    "    print k\n",
    "    print np.array(v).shape  \n",
    "\n",
    "plt.imshow(v[1000])"
   ]
  },
  {
   "cell_type": "code",
   "execution_count": null,
   "metadata": {
    "collapsed": false
   },
   "outputs": [],
   "source": [
    "key_map = {'A':1,'B':2,'C':3,'D':4,'E':5,'F':6,'G':7,'H':8,\"I\":9,'J':10} "
   ]
  },
  {
   "cell_type": "code",
   "execution_count": null,
   "metadata": {
    "collapsed": false
   },
   "outputs": [],
   "source": [
    "def create_array(allImageArray):\n",
    "    X_y = np.empty(shape = [0,785])\n",
    "    #y_train = np.empty(shape = [0,1])\n",
    "\n",
    "    for k,v in allImageArray.viewitems():\n",
    "        image_array = np.array(v)\n",
    "        image_array = image_array.reshape([image_array.shape[0], image_array.shape[1] * image_array.shape[2]])\n",
    "        k_array = np.zeros(shape = [image_array.shape[0], 1])\n",
    "        k_array.fill(int(key_map[k]))\n",
    "        X_y = np.concatenate((X_y, np.hstack((k_array, image_array))))\n",
    "    \n",
    "    print X_y.shape\n",
    "    return X_y\n",
    "    #print y_train.shape\n",
    "\n",
    "X_y = create_array(allImageArrayTrain)\n",
    "X_y_test = create_array(allImageArrayTest)\n",
    "\n",
    "pk.dump(X_y, open(\"../datasets/notMNIST/all_image_array_train.pickle\", \"wb\"), pk.HIGHEST_PROTOCOL)\n",
    "pk.dump(X_y_test, open(\"../datasets/notMNIST/all_image_array_test.pickle\", \"wb\"), pk.HIGHEST_PROTOCOL)\n"
   ]
  },
  {
   "cell_type": "code",
   "execution_count": null,
   "metadata": {
    "collapsed": false
   },
   "outputs": [],
   "source": [
    "X_y[1:100:,0]"
   ]
  },
  {
   "cell_type": "code",
   "execution_count": null,
   "metadata": {
    "collapsed": false
   },
   "outputs": [],
   "source": [
    "np.random.shuffle(X_y)"
   ]
  },
  {
   "cell_type": "code",
   "execution_count": null,
   "metadata": {
    "collapsed": false
   },
   "outputs": [],
   "source": [
    "X_y[1:10,1:785]"
   ]
  },
  {
   "cell_type": "code",
   "execution_count": null,
   "metadata": {
    "collapsed": false
   },
   "outputs": [],
   "source": [
    "#lr = LinearRegression()\n",
    "lr = LogisticRegression()"
   ]
  },
  {
   "cell_type": "code",
   "execution_count": null,
   "metadata": {
    "collapsed": false
   },
   "outputs": [],
   "source": [
    "X_train, X_test, y_train, y_test = train_test_split(X_y[:,1:785], X_y[:,0], test_size=0.4, random_state=0)"
   ]
  },
  {
   "cell_type": "code",
   "execution_count": null,
   "metadata": {
    "collapsed": false
   },
   "outputs": [],
   "source": [
    "cv = ShuffleSplit(n_splits=3, test_size=0.3, random_state=0)\n",
    "scores = cross_val_score(lr, X_train, y_train, cv=cv)"
   ]
  },
  {
   "cell_type": "code",
   "execution_count": null,
   "metadata": {
    "collapsed": false
   },
   "outputs": [],
   "source": [
    "scores"
   ]
  },
  {
   "cell_type": "code",
   "execution_count": null,
   "metadata": {
    "collapsed": false
   },
   "outputs": [],
   "source": [
    "print(\"Accuracy: %0.2f (+/- %0.2f)\" % (scores.mean(), scores.std() * 2))"
   ]
  }
 ],
 "metadata": {
  "kernelspec": {
   "display_name": "Python [tensorflow]",
   "language": "python",
   "name": "Python [tensorflow]"
  },
  "language_info": {
   "codemirror_mode": {
    "name": "ipython",
    "version": 2
   },
   "file_extension": ".py",
   "mimetype": "text/x-python",
   "name": "python",
   "nbconvert_exporter": "python",
   "pygments_lexer": "ipython2",
   "version": "2.7.12"
  }
 },
 "nbformat": 4,
 "nbformat_minor": 0
}
